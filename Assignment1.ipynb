{
 "cells": [
  {
   "cell_type": "markdown",
   "metadata": {},
   "source": [
    "# Assignment 1\n",
    "## AVISO Altimetry Data from 1993-2015 15N-15S\n",
    "### AVISO is satellite derived sea surface height relative to the mean ocean surface of the Earth. AVISO's dataset was created by binning and averaging monthly values. \n",
    "### AVISO stands for \"Archiving, Validation, and Interpolation of Satellite Oceanographic data\"\n",
    "#### Resolution: 1 degree grids"
   ]
  },
  {
   "cell_type": "markdown",
   "metadata": {},
   "source": [
    "<div class=\"alert alert-block alert-info\">\n",
    "Import Necessary Modules"
   ]
  },
  {
   "cell_type": "code",
   "execution_count": 14,
   "metadata": {},
   "outputs": [],
   "source": [
    "import warnings\n",
    "\n",
    "import numpy as np\n",
    "import matplotlib.pyplot as plt\n",
    "import xarray as xr\n",
    "import pandas as pd\n",
    "\n",
    "import cartopy.crs as ccrs\n",
    "import cartopy.mpl.ticker as cticker\n",
    "from cartopy.util import add_cyclic_point"
   ]
  },
  {
   "cell_type": "markdown",
   "metadata": {},
   "source": [
    "<div class=\"alert alert-block alert-info\">\n",
    "    Read Data"
   ]
  },
  {
   "cell_type": "code",
   "execution_count": 15,
   "metadata": {},
   "outputs": [
    {
     "data": {
      "text/plain": [
       "<xarray.Dataset>\n",
       "Dimensions:    (latitude: 121, longitude: 1440, time: 8400)\n",
       "Coordinates:\n",
       "  * longitude  (longitude) float32 0.125 0.375 0.625 ... 359.375 359.625 359.875\n",
       "  * latitude   (latitude) float32 -14.875 -14.625 -14.375 ... 14.875 15.125\n",
       "  * time       (time) datetime64[ns] 1993-01-01 1993-01-02 ... 2015-12-31\n",
       "Data variables:\n",
       "    sla        (time, latitude, longitude) float64 ...\n",
       "    adt        (time, latitude, longitude) float64 ...\n",
       "Attributes:\n",
       "    CDI:                             Climate Data Interface version 1.8.2 (ht...\n",
       "    Conventions:                     CF-1.6\n",
       "    history:                         Mon Aug 28 00:35:48 2017: cdo mergetime ...\n",
       "    source:                          Altimetry measurements\n",
       "    institution:                     CLS, CNES\n",
       "    Metadata_Conventions:            Unidata Dataset Discovery v1.0\n",
       "    cdm_data_type:                   Grid\n",
       "    comment:                         Sea Surface Height measured by Altimetry...\n",
       "    contact:                         servicedesk.cmems@mercator-ocean.eu\n",
       "    creator_email:                   servicedesk.cmems@mercator-ocean.eu\n",
       "    creator_name:                    CMEMS - Sea Level Thematic Assembly Center\n",
       "    creator_url:                     http://marine.copernicus.eu\n",
       "    date_created:                    2017-03-10T02:50:44Z\n",
       "    date_issued:                     2017-03-10T02:50:44Z\n",
       "    date_modified:                   2017-03-10T02:50:44Z\n",
       "    geospatial_lat_max:              15.125\n",
       "    geospatial_lat_min:              -14.875\n",
       "    geospatial_lat_resolution:       0.25\n",
       "    geospatial_lat_units:            degrees_north\n",
       "    geospatial_lon_max:              359.875\n",
       "    geospatial_lon_min:              0.125\n",
       "    geospatial_lon_resolution:       0.25\n",
       "    geospatial_lon_units:            degrees_east\n",
       "    geospatial_vertical_max:         0.0\n",
       "    geospatial_vertical_min:         0.0\n",
       "    geospatial_vertical_positive:    down\n",
       "    geospatial_vertical_resolution:  point\n",
       "    geospatial_vertical_units:       m\n",
       "    keywords:                        Oceans > Ocean Topography > Sea Surface ...\n",
       "    keywords_vocabulary:             NetCDF COARDS Climate and Forecast Stand...\n",
       "    license:                         http://marine.copernicus.eu/web/27-servi...\n",
       "    platform:                        Altika geodetic phase, Cryosat-2, Jason-...\n",
       "    processing_level:                L4\n",
       "    product_version:                 5.8\n",
       "    project:                         COPERNICUS MARINE ENVIRONMENT MONITORING...\n",
       "    references:                      http://marine.copernicus.eu\n",
       "    ssalto_duacs_comment:            The reference mission used for the altim...\n",
       "    standard_name_vocabulary:        NetCDF Climate and Forecast (CF) Metadat...\n",
       "    summary:                         SSALTO/DUACS Delayed-Time Level-4 sea su...\n",
       "    time_coverage_duration:          P1D\n",
       "    time_coverage_end:               2016-09-24T00:00:00Z\n",
       "    time_coverage_resolution:        P1D\n",
       "    time_coverage_start:             2016-09-24T00:00:00Z\n",
       "    title:                           DT merged all satellites Global Ocean Gr...\n",
       "    History:                         Translated to CF-1.0 Conventions by Netc...\n",
       "    CDO:                             Climate Data Operators version 1.8.2 (ht..."
      ]
     },
     "execution_count": 15,
     "metadata": {},
     "output_type": "execute_result"
    }
   ],
   "source": [
    "file = \"/project/airsea/AVISO/1993_2015_15N-15S_AVISO_SLA_ADT.nc\"\n",
    "ds = xr.open_dataset(file)\n",
    "ds"
   ]
  },
  {
   "cell_type": "markdown",
   "metadata": {},
   "source": [
    "<div class=\"alert alert-block alert-info\">\n",
    "    Plotting Data"
   ]
  },
  {
   "cell_type": "markdown",
   "metadata": {},
   "source": [
    "<div class=\"alert alert-block alert-warning\">\n",
    "    WARNING: Graphs will be petite but extra extra sweet"
   ]
  },
  {
   "cell_type": "code",
   "execution_count": 18,
   "metadata": {},
   "outputs": [
    {
     "data": {
      "text/plain": [
       "<xarray.DataArray 'sla' (latitude: 121, longitude: 1440)>\n",
       "array([[0.01019781, 0.00790959, 0.00568192, ..., 0.01473178, 0.01377425,\n",
       "        0.01223753],\n",
       "       [0.00947644, 0.00782877, 0.00625315, ..., 0.01288356, 0.01211616,\n",
       "        0.01095918],\n",
       "       [0.00873808, 0.00800849, 0.00737644, ..., 0.01050822, 0.01003589,\n",
       "        0.00941753],\n",
       "       ...,\n",
       "       [       nan,        nan,        nan, ...,        nan,        nan,\n",
       "               nan],\n",
       "       [       nan,        nan,        nan, ...,        nan,        nan,\n",
       "               nan],\n",
       "       [       nan,        nan,        nan, ...,        nan,        nan,\n",
       "               nan]])\n",
       "Coordinates:\n",
       "  * longitude  (longitude) float32 0.125 0.375 0.625 ... 359.375 359.625 359.875\n",
       "  * latitude   (latitude) float32 -14.875 -14.625 -14.375 ... 14.875 15.125"
      ]
     },
     "execution_count": 18,
     "metadata": {},
     "output_type": "execute_result"
    }
   ],
   "source": [
    "#Total dataset was too large to be computed so it had to be broken down into smaller chunks.\n",
    "# Future calculation for mean can be done in batches and then averaged to give a total image of ds\n",
    "ds_mean=ds.sla[0:365,:,:].mean(dim=\"time\")\n",
    "ds_mean"
   ]
  },
  {
   "cell_type": "code",
   "execution_count": 19,
   "metadata": {},
   "outputs": [
    {
     "data": {
      "text/plain": [
       "<matplotlib.colorbar.Colorbar at 0x7fd278a53f98>"
      ]
     },
     "execution_count": 19,
     "metadata": {},
     "output_type": "execute_result"
    },
    {
     "data": {
      "image/png": "[encoded data removed]",
      "text/plain": [
       "<Figure size 432x288 with 2 Axes>"
      ]
     },
     "metadata": {
      "needs_background": "light"
     },
     "output_type": "display_data"
    }
   ],
   "source": [
    "plt.contourf(ds_mean)\n",
    "plt.colorbar()"
   ]
  },
  {
   "cell_type": "markdown",
   "metadata": {},
   "source": [
    "### Plot with a Map"
   ]
  },
  {
   "cell_type": "code",
   "execution_count": 36,
   "metadata": {},
   "outputs": [
    {
     "data": {
      "text/plain": [
       "<matplotlib.contour.QuadContourSet at 0x7fd27831d5c0>"
      ]
     },
     "execution_count": 36,
     "metadata": {},
     "output_type": "execute_result"
    },
    {
     "data": {
      "image/png": "[encoded data removed]",
      "text/plain": [
       "<Figure size 792x612 with 1 Axes>"
      ]
     },
     "metadata": {
      "needs_background": "light"
     },
     "output_type": "display_data"
    }
   ],
   "source": [
    "# Make the figure larger\n",
    "fig = plt.figure(figsize=(11,8.5))\n",
    "\n",
    "# Set the axes using the specified map projection\n",
    "ax=plt.axes(projection=ccrs.PlateCarree())\n",
    "\n",
    "# Make a filled contour plot\n",
    "# Adjust lon -> longitude and Lat -> Latitdue from Dataset\n",
    "ax.contourf(ds['longitude'], ds['latitude'], ds_mean,\n",
    "            transform = ccrs.PlateCarree())\n",
    "\n",
    "# Add coastlines (Currently not working) \n",
    "#ax.coastlines()"
   ]
  },
  {
   "cell_type": "markdown",
   "metadata": {},
   "source": [
    "### Cyclic Data and Lat-Lon Labels"
   ]
  },
  {
   "cell_type": "code",
   "execution_count": 43,
   "metadata": {},
   "outputs": [
    {
     "data": {
      "image/png": "[encoded data removed]",
      "text/plain": [
       "<Figure size 792x612 with 1 Axes>"
      ]
     },
     "metadata": {
      "needs_background": "light"
     },
     "output_type": "display_data"
    }
   ],
   "source": [
    "# Make the figure larger\n",
    "fig = plt.figure(figsize=(11,8.5))\n",
    "\n",
    "# Set the axes using the specified map projection\n",
    "ax=plt.axes(projection=ccrs.PlateCarree())\n",
    "\n",
    "# Add cyclic point to data\n",
    "data=ds_mean\n",
    "data, lons = add_cyclic_point(data, coord=ds['longitude'])\n",
    "\n",
    "\n",
    "# Make a filled contour plot\n",
    "cs=ax.contourf(lons, ds['latitude'], data,\n",
    "            transform = ccrs.PlateCarree())\n",
    "\n",
    "# Add coastlines (Currently not working)\n",
    "#ax.coastlines()\n",
    "\n",
    "# Define the xticks for longitude\n",
    "ax.set_xticks(np.arange(-180,181,60), crs=ccrs.PlateCarree())\n",
    "lon_formatter = cticker.LongitudeFormatter()\n",
    "ax.xaxis.set_major_formatter(lon_formatter)\n",
    "\n",
    "# Define the yticks for latitude\n",
    "ax.set_yticks(np.arange(-15,16,15), crs=ccrs.PlateCarree())\n",
    "lat_formatter = cticker.LatitudeFormatter()\n",
    "ax.yaxis.set_major_formatter(lat_formatter)"
   ]
  },
  {
   "cell_type": "markdown",
   "metadata": {},
   "source": [
    "### Change the Colormap"
   ]
  },
  {
   "cell_type": "code",
   "execution_count": 51,
   "metadata": {},
   "outputs": [
    {
     "data": {
      "image/png": "[encoded data removed]",
      "text/plain": [
       "<Figure size 792x612 with 2 Axes>"
      ]
     },
     "metadata": {
      "needs_background": "light"
     },
     "output_type": "display_data"
    }
   ],
   "source": [
    "# Make the figure larger\n",
    "fig = plt.figure(figsize=(11,8.5))\n",
    "\n",
    "# Set the axes using the specified map projection\n",
    "ax=plt.axes(projection=ccrs.PlateCarree())\n",
    "\n",
    "# Add cyclic point to data\n",
    "data=ds_mean\n",
    "data, lons = add_cyclic_point(data, coord=ds['longitude'])\n",
    "\n",
    "\n",
    "# Make a filled contour plot\n",
    "cs=ax.contourf(lons, ds['latitude'], data,\n",
    "            transform = ccrs.PlateCarree(),cmap='coolwarm',extend='both')\n",
    "\n",
    "# Add coastlines\n",
    "#ax.coastlines()\n",
    "\n",
    "# Define the xticks for longitude\n",
    "ax.set_xticks(np.arange(-180,181,60), crs=ccrs.PlateCarree())\n",
    "lon_formatter = cticker.LongitudeFormatter()\n",
    "ax.xaxis.set_major_formatter(lon_formatter)\n",
    "\n",
    "# Define the yticks for latitude\n",
    "ax.set_yticks(np.arange(-15,16,15), crs=ccrs.PlateCarree())\n",
    "lat_formatter = cticker.LatitudeFormatter()\n",
    "ax.yaxis.set_major_formatter(lat_formatter)\n",
    "\n",
    "# Add colorbar\n",
    "cbar = plt.colorbar(cs)"
   ]
  },
  {
   "cell_type": "markdown",
   "metadata": {},
   "source": [
    "<div class=\"alert alert-block alert-info\">\n",
    "    This colorbar is a bit extreme for my taste"
   ]
  },
  {
   "cell_type": "markdown",
   "metadata": {},
   "source": [
    "### Change the Map Projection"
   ]
  },
  {
   "cell_type": "code",
   "execution_count": 52,
   "metadata": {},
   "outputs": [
    {
     "data": {
      "text/plain": [
       "Text(0.5, 1.0, 'AVISO 1993-2015 for 15N - 15S')"
      ]
     },
     "execution_count": 52,
     "metadata": {},
     "output_type": "execute_result"
    },
    {
     "data": {
      "image/png": "[encoded data removed]",
      "text/plain": [
       "<Figure size 792x612 with 2 Axes>"
      ]
     },
     "metadata": {
      "needs_background": "light"
     },
     "output_type": "display_data"
    }
   ],
   "source": [
    "# Make the figure larger\n",
    "fig = plt.figure(figsize=(11,8.5))\n",
    "\n",
    "# Set the axes using the specified map projection\n",
    "ax=plt.axes(projection=ccrs.Robinson())\n",
    "\n",
    "# Add cyclic point to data\n",
    "data=ds_mean\n",
    "data, lons = add_cyclic_point(data, coord=ds['longitude'])\n",
    "\n",
    "\n",
    "# Make a filled contour plot\n",
    "cs=ax.contourf(lons, ds['latitude'], data,\n",
    "            transform = ccrs.PlateCarree(),cmap='coolwarm',extend='both')\n",
    "\n",
    "# Add coastlines\n",
    "#ax.coastlines()\n",
    "\n",
    "# Add gridlines\n",
    "ax.gridlines()\n",
    "\n",
    "# Add colorbar\n",
    "cbar = plt.colorbar(cs,shrink=0.7,orientation='horizontal',label='Sea Surface Height (m)')\n",
    "\n",
    "# Add title\n",
    "plt.title('AVISO 1993-2015 for 15N - 15S')"
   ]
  },
  {
   "cell_type": "markdown",
   "metadata": {},
   "source": [
    "<div class=\"alert alert-block alert-info\">\n",
    "    This is much more reasonable"
   ]
  },
  {
   "cell_type": "code",
   "execution_count": null,
   "metadata": {},
   "outputs": [],
   "source": []
  }
 ],
 "metadata": {
  "kernelspec": {
   "display_name": "Python 3",
   "language": "python",
   "name": "python3"
  },
  "language_info": {
   "codemirror_mode": {
    "name": "ipython",
    "version": 3
   },
   "file_extension": ".py",
   "mimetype": "text/x-python",
   "name": "python",
   "nbconvert_exporter": "python",
   "pygments_lexer": "ipython3",
   "version": "3.7.3"
  }
 },
 "nbformat": 4,
 "nbformat_minor": 4
}
